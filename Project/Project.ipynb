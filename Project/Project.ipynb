{
 "cells": [
  {
   "cell_type": "code",
   "execution_count": 85,
   "id": "57e91b5a",
   "metadata": {},
   "outputs": [
    {
     "name": "stdout",
     "output_type": "stream",
     "text": [
      "        age_years  sex_0male_1female  episode_number\n",
      "0              21                  1               1\n",
      "1              20                  1               1\n",
      "2              21                  1               1\n",
      "3              77                  0               1\n",
      "4              72                  0               1\n",
      "...           ...                ...             ...\n",
      "110199          0                  0               1\n",
      "110200          0                  1               1\n",
      "110201         70                  1               1\n",
      "110202          0                  0               1\n",
      "110203          0                  0               1\n",
      "\n",
      "[110204 rows x 3 columns]\n"
     ]
    }
   ],
   "source": [
    "import pandas as pd\n",
    "from tensorflow import keras\n",
    "from tensorflow.keras import layers\n",
    "from tensorflow.keras import models\n",
    "from tensorflow.keras.optimizers import Adam\n",
    "from sklearn import model_selection\n",
    "\n",
    "data = pd.read_csv(\"sepsis_survival_primary_cohort.csv\")\n",
    "x = data.iloc[:, 0:-1]\n",
    "y = data.iloc[:, -1]\n",
    "\n",
    "print(x)"
   ]
  },
  {
   "cell_type": "code",
   "execution_count": 86,
   "id": "e21e6dd4",
   "metadata": {},
   "outputs": [],
   "source": [
    "x_train, x_test, y_train, y_test = model_selection.train_test_split(x, y, test_size=0.2)"
   ]
  },
  {
   "cell_type": "code",
   "execution_count": 87,
   "id": "66dbeba3",
   "metadata": {},
   "outputs": [],
   "source": [
    "model = keras.Sequential(\n",
    "    [\n",
    "        layers.Dense(9, activation=\"relu\"),\n",
    "        layers.Dense(1, activation=\"sigmoid\"),\n",
    "    ]\n",
    ")"
   ]
  },
  {
   "cell_type": "code",
   "execution_count": null,
   "id": "6934d017",
   "metadata": {},
   "outputs": [
    {
     "name": "stdout",
     "output_type": "stream",
     "text": [
      "Epoch 1/130\n",
      "353/353 [==============================] - 1s 2ms/step - loss: 0.2447 - accuracy: 0.9260 - val_loss: 0.2400 - val_accuracy: 0.9275\n",
      "Epoch 2/130\n",
      "353/353 [==============================] - 1s 1ms/step - loss: 0.2447 - accuracy: 0.9260 - val_loss: 0.2400 - val_accuracy: 0.9275\n",
      "Epoch 3/130\n",
      "353/353 [==============================] - 1s 1ms/step - loss: 0.2447 - accuracy: 0.9260 - val_loss: 0.2400 - val_accuracy: 0.9275\n",
      "Epoch 4/130\n",
      "353/353 [==============================] - 1s 1ms/step - loss: 0.2447 - accuracy: 0.9260 - val_loss: 0.2400 - val_accuracy: 0.9275\n",
      "Epoch 5/130\n",
      "353/353 [==============================] - 1s 2ms/step - loss: 0.2447 - accuracy: 0.9260 - val_loss: 0.2400 - val_accuracy: 0.9275\n",
      "Epoch 6/130\n",
      "353/353 [==============================] - 1s 1ms/step - loss: 0.2447 - accuracy: 0.9260 - val_loss: 0.2400 - val_accuracy: 0.9275\n",
      "Epoch 7/130\n",
      "353/353 [==============================] - 1s 1ms/step - loss: 0.2447 - accuracy: 0.9260 - val_loss: 0.2400 - val_accuracy: 0.9275\n",
      "Epoch 8/130\n",
      "353/353 [==============================] - 0s 1ms/step - loss: 0.2447 - accuracy: 0.9260 - val_loss: 0.2400 - val_accuracy: 0.9275\n",
      "Epoch 9/130\n",
      "353/353 [==============================] - 1s 1ms/step - loss: 0.2447 - accuracy: 0.9260 - val_loss: 0.2400 - val_accuracy: 0.9275\n",
      "Epoch 10/130\n",
      "353/353 [==============================] - 1s 2ms/step - loss: 0.2447 - accuracy: 0.9260 - val_loss: 0.2400 - val_accuracy: 0.9275\n",
      "Epoch 11/130\n",
      "353/353 [==============================] - 1s 2ms/step - loss: 0.2447 - accuracy: 0.9260 - val_loss: 0.2400 - val_accuracy: 0.9275\n",
      "Epoch 12/130\n",
      "353/353 [==============================] - 1s 1ms/step - loss: 0.2447 - accuracy: 0.9260 - val_loss: 0.2400 - val_accuracy: 0.9275\n",
      "Epoch 13/130\n",
      "353/353 [==============================] - 1s 2ms/step - loss: 0.2447 - accuracy: 0.9260 - val_loss: 0.2400 - val_accuracy: 0.9275\n",
      "Epoch 14/130\n",
      "353/353 [==============================] - 1s 1ms/step - loss: 0.2447 - accuracy: 0.9260 - val_loss: 0.2400 - val_accuracy: 0.9275\n",
      "Epoch 15/130\n",
      "353/353 [==============================] - 1s 1ms/step - loss: 0.2447 - accuracy: 0.9260 - val_loss: 0.2400 - val_accuracy: 0.9275\n",
      "Epoch 16/130\n",
      "353/353 [==============================] - 0s 1ms/step - loss: 0.2447 - accuracy: 0.9260 - val_loss: 0.2400 - val_accuracy: 0.9275\n",
      "Epoch 17/130\n",
      "353/353 [==============================] - 1s 1ms/step - loss: 0.2447 - accuracy: 0.9260 - val_loss: 0.2400 - val_accuracy: 0.9275\n",
      "Epoch 18/130\n",
      "353/353 [==============================] - 1s 1ms/step - loss: 0.2447 - accuracy: 0.9260 - val_loss: 0.2400 - val_accuracy: 0.9275\n",
      "Epoch 19/130\n",
      "353/353 [==============================] - 1s 2ms/step - loss: 0.2447 - accuracy: 0.9260 - val_loss: 0.2400 - val_accuracy: 0.9275\n",
      "Epoch 20/130\n",
      "353/353 [==============================] - 1s 2ms/step - loss: 0.2447 - accuracy: 0.9260 - val_loss: 0.2400 - val_accuracy: 0.9275\n",
      "Epoch 21/130\n",
      "353/353 [==============================] - 1s 1ms/step - loss: 0.2447 - accuracy: 0.9260 - val_loss: 0.2400 - val_accuracy: 0.9275\n",
      "Epoch 22/130\n",
      "353/353 [==============================] - 1s 1ms/step - loss: 0.2447 - accuracy: 0.9260 - val_loss: 0.2400 - val_accuracy: 0.9275\n",
      "Epoch 23/130\n",
      "173/353 [=============>................] - ETA: 0s - loss: 0.2456 - accuracy: 0.9259"
     ]
    }
   ],
   "source": [
    "model.compile(loss=\"binary_crossentropy\", optimizer=Adam(learning_rate=0.000001), metrics=[\"accuracy\"])\n",
    "model.fit(x_train, y_train, epochs=130, batch_size=200, validation_split=0.2)"
   ]
  },
  {
   "cell_type": "code",
   "execution_count": 89,
   "id": "4adfd99c",
   "metadata": {},
   "outputs": [
    {
     "name": "stdout",
     "output_type": "stream",
     "text": [
      "Accuracy: 0.9270450472831726\n",
      "Loss: 0.26518458127975464\n"
     ]
    }
   ],
   "source": [
    "score = model.evaluate(x_test, y_test, verbose=0)\n",
    "print(\"Accuracy:\", score[1])\n",
    "print(\"Loss:\", score[0])"
   ]
  }
 ],
 "metadata": {
  "kernelspec": {
   "display_name": "Python 3 (ipykernel)",
   "language": "python",
   "name": "python3"
  },
  "language_info": {
   "codemirror_mode": {
    "name": "ipython",
    "version": 3
   },
   "file_extension": ".py",
   "mimetype": "text/x-python",
   "name": "python",
   "nbconvert_exporter": "python",
   "pygments_lexer": "ipython3",
   "version": "3.10.2"
  }
 },
 "nbformat": 4,
 "nbformat_minor": 5
}
