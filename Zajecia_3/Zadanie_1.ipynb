{
 "cells": [
  {
   "cell_type": "code",
   "execution_count": 16,
   "id": "2da230d6",
   "metadata": {},
   "outputs": [
    {
     "name": "stdout",
     "output_type": "stream",
     "text": [
      "fires = [6.2, 9.5, 10.5, 7.7, 8.6, 34.1, 11.0, 6.9, 7.3, 15.1]\n",
      "thefts = [29.0, 44.0, 36.0, 37.0, 53.0, 68.0, 75.0, 18.0, 31.0, 25.0]\n"
     ]
    }
   ],
   "source": [
    "import csv\n",
    "from IPython.display import display, Math, Latex\n",
    "import ipywidgets as widgets\n",
    "import numpy as np\n",
    "import matplotlib.pyplot as pl\n",
    "\n",
    "reader = csv.reader(open('fires_thefts.csv'), delimiter=',')\n",
    "\n",
    "fires = list()\n",
    "thefts = list()\n",
    "for xi, yi in reader:\n",
    "    fires.append(float(xi))\n",
    "    thefts.append(float(yi)) \n",
    "    \n",
    "print('fires = {}'.format(fires[:10])) \n",
    "print('thefts = {}'.format(thefts[:10]))"
   ]
  },
  {
   "cell_type": "code",
   "execution_count": 17,
   "id": "9b2a8ce8",
   "metadata": {},
   "outputs": [
    {
     "data": {
      "text/latex": [
       "$\\displaystyle \\large\\textrm{Wynik:}\\quad \\theta = \\left[\\begin{array}{r}14.2268 \\\\\\\\ 1.4529 \\\\\\\\ \\end{array}\\right] \\quad J(\\theta) = 181.7965 \\quad \\textrm{po 5013 iteracjach}$"
      ],
      "text/plain": [
       "<IPython.core.display.Math object>"
      ]
     },
     "metadata": {},
     "output_type": "display_data"
    }
   ],
   "source": [
    "theta = [0,0]\n",
    "\n",
    "def hypothesis(theta, X):\n",
    "    return theta[0] + theta[1]*X\n",
    "\n",
    "def J(h, theta, x, y):\n",
    "    m = len(y)\n",
    "    return 1.0 / (2 * m) * sum((h(theta, x[i]) - y[i])**2 for i in range(m))\n",
    "\n",
    "def gradient_descent(h, cost_fun, theta, x, y, alpha, eps):\n",
    "    current_cost = cost_fun(h, theta, x, y)\n",
    "    log = [[current_cost, theta]]\n",
    "    m = len(y)\n",
    "    while True:\n",
    "        new_theta = [\n",
    "            theta[0] - alpha/float(m) * sum(h(theta, x[i]) - y[i]\n",
    "                                            for i in range(m)),   \n",
    "            theta[1] - alpha/float(m) * sum((h(theta, x[i]) - y[i]) * x[i]\n",
    "                                            for i in range(m))]\n",
    "        theta = new_theta\n",
    "        try:\n",
    "            prev_cost = current_cost\n",
    "            current_cost = cost_fun(h, theta, x, y)\n",
    "        except OverflowError:\n",
    "            break      \n",
    "        if abs(prev_cost - current_cost) <= eps:\n",
    "            break     \n",
    "        log.append([current_cost, theta])\n",
    "    return theta, log\n",
    "\n",
    "best_theta, log = gradient_descent(hypothesis, J, [0.0, 0.0], fires, thefts, alpha=0.001, eps=0.001)\n",
    "\n",
    "def LatexMatrix(matrix):\n",
    "    ltx = r'\\left[\\begin{array}'\n",
    "    m, n = matrix.shape\n",
    "    ltx += '{' + (\"r\" * n) + '}'\n",
    "    for i in range(m):\n",
    "        ltx += r\" & \".join([('%.4f' % j.item()) for j in matrix[i]]) + r\" \\\\\\\\ \"\n",
    "    ltx += r'\\end{array}\\right]'\n",
    "    return ltx\n",
    "\n",
    "display(Math(r'\\large\\textrm{Wynik:}\\quad \\theta = ' + \n",
    "             LatexMatrix(np.matrix(best_theta).reshape(2,1)) + \n",
    "            (r' \\quad J(\\theta) = %.4f' % log[-1][0])  \n",
    "            + r' \\quad \\textrm{po %d iteracjach}' % len(log))) "
   ]
  },
  {
   "cell_type": "code",
   "execution_count": 18,
   "id": "b3618275",
   "metadata": {},
   "outputs": [
    {
     "name": "stdout",
     "output_type": "stream",
     "text": [
      "86.87183634770264\n"
     ]
    }
   ],
   "source": [
    "example_x = 50\n",
    "predicted_y = hypothesis(best_theta, example_x)\n",
    "print(predicted_y)"
   ]
  },
  {
   "cell_type": "code",
   "execution_count": 19,
   "id": "a64adac5",
   "metadata": {},
   "outputs": [
    {
     "name": "stdout",
     "output_type": "stream",
     "text": [
      "159.51685404647884\n"
     ]
    }
   ],
   "source": [
    "example_x = 100\n",
    "predicted_y = hypothesis(best_theta, example_x)\n",
    "print(predicted_y)"
   ]
  },
  {
   "cell_type": "code",
   "execution_count": 20,
   "id": "f7bd7419",
   "metadata": {},
   "outputs": [
    {
     "name": "stdout",
     "output_type": "stream",
     "text": [
      "304.80688944403124\n"
     ]
    }
   ],
   "source": [
    "example_x = 200\n",
    "predicted_y = hypothesis(best_theta, example_x)\n",
    "print(predicted_y)"
   ]
  },
  {
   "cell_type": "code",
   "execution_count": 21,
   "id": "97469a76",
   "metadata": {},
   "outputs": [
    {
     "data": {
      "image/png": "[encoded data removed]",
      "text/plain": [
       "<Figure size 691.2x388.8 with 1 Axes>"
      ]
     },
     "metadata": {
      "needs_background": "light"
     },
     "output_type": "display_data"
    }
   ],
   "source": [
    "def costchangeplot(logs1, logs2, logs3):\n",
    "    fig = pl.figure(figsize=(16*.6, 9*.6))\n",
    "    ax = fig.add_subplot(2,1,1)\n",
    "    fig.subplots_adjust(left=0.1, right=0.9, bottom=0.1, top=0.9)\n",
    "    ax.set_xlabel('krok')\n",
    "    ax.set_ylabel(r'$J(\\theta)$')\n",
    "\n",
    "    X = np.arange(0, 200, 1)\n",
    "    logs1 = logs1 + [logs1[-1]]*90\n",
    "    Y1 = [logs1[step][0] for step in X]\n",
    "    ax.plot(X, Y1, color=\"red\", linewidth='1', label=(r'$alpha = 0.1$'))\n",
    "    Y2 = [logs2[step][0] for step in X]\n",
    "    ax.plot(X, Y2, color=\"blue\", linewidth='1', label=(r'$alpha = 0.01$'))\n",
    "    Y3 = [logs3[step][0] for step in X]\n",
    "    ax.plot(X, Y3, color=\"green\", linewidth='1', label=(r'$alpha = 0.001$'))\n",
    "    return fig\n",
    "\n",
    "def legend(fig):\n",
    "    ax = fig.axes[0]\n",
    "    handles, labels = ax.get_legend_handles_labels()\n",
    "    try:\n",
    "        fig.legend(handles, labels, fontsize='15', loc='lower right')\n",
    "    except AttributeError:\n",
    "        pass\n",
    "\n",
    "def slide():\n",
    "    best_theta1, log1 = gradient_descent(hypothesis, J, [0.0, 0.0], fires, thefts, alpha=0.1, eps=0.001)\n",
    "    best_theta2, log2 = gradient_descent(hypothesis, J, [0.0, 0.0], fires, thefts, alpha=0.01, eps=0.001)\n",
    "    best_theta3, log3 = gradient_descent(hypothesis, J, [0.0, 0.0], fires, thefts, alpha=0.001, eps=0.001)\n",
    "    fig = costchangeplot(log1, log2, log3)\n",
    "    legend(fig)\n",
    "\n",
    "slide()"
   ]
  },
  {
   "cell_type": "code",
   "execution_count": null,
   "id": "951ac81e",
   "metadata": {},
   "outputs": [],
   "source": []
  }
 ],
 "metadata": {
  "kernelspec": {
   "display_name": "Python 3 (ipykernel)",
   "language": "python",
   "name": "python3"
  },
  "language_info": {
   "codemirror_mode": {
    "name": "ipython",
    "version": 3
   },
   "file_extension": ".py",
   "mimetype": "text/x-python",
   "name": "python",
   "nbconvert_exporter": "python",
   "pygments_lexer": "ipython3",
   "version": "3.10.2"
  }
 },
 "nbformat": 4,
 "nbformat_minor": 5
}
