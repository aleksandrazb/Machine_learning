{
 "cells": [
  {
   "cell_type": "code",
   "execution_count": 50,
   "id": "cd48c49c",
   "metadata": {},
   "outputs": [],
   "source": [
    "import pandas as pd\n",
    "import matplotlib.pyplot as plt\n",
    "from sklearn.preprocessing import PolynomialFeatures\n",
    "from sklearn.linear_model import LinearRegression\n",
    "from sklearn.pipeline import make_pipeline\n",
    "import numpy as np\n",
    "\n",
    "alldata = pd.read_csv('flats.tsv', sep='\\t')\n"
   ]
  },
  {
   "cell_type": "code",
   "execution_count": 51,
   "id": "91762d63",
   "metadata": {},
   "outputs": [
    {
     "name": "stdout",
     "output_type": "stream",
     "text": [
      "[' brak miejsca parkingowego' ' w garażu' ' przynależne na ulicy'\n",
      " ' parking strzeżony' ' pod wiatą']\n"
     ]
    }
   ],
   "source": [
    "print(pd.unique(alldata['Miejsce parkingowe']))"
   ]
  },
  {
   "cell_type": "code",
   "execution_count": 52,
   "id": "5824816c",
   "metadata": {},
   "outputs": [
    {
     "name": "stdout",
     "output_type": "stream",
     "text": [
      "[' parter' ' 2' ' 5' ' 12' ' 1' ' 3' nan ' 8' ' 4' ' 16' ' 7' ' 6'\n",
      " ' poddasze' ' 9' ' 11' ' 13' ' 14' ' 10' ' 15' ' niski parter']\n"
     ]
    }
   ],
   "source": [
    "print(pd.unique(alldata['Piętro']))"
   ]
  },
  {
   "cell_type": "code",
   "execution_count": 53,
   "id": "753ff302",
   "metadata": {},
   "outputs": [
    {
     "name": "stdout",
     "output_type": "stream",
     "text": [
      "[' apartamentowiec' ' kamienica' ' blok' ' dom wielorodzinny/szeregowiec'\n",
      " nan ' plomba']\n"
     ]
    }
   ],
   "source": [
    "print(pd.unique(alldata['Typ zabudowy']))"
   ]
  },
  {
   "cell_type": "code",
   "execution_count": 54,
   "id": "747ca29b",
   "metadata": {},
   "outputs": [
    {
     "name": "stdout",
     "output_type": "stream",
     "text": [
      "[' cegła' ' płyta' nan ' silikat' ' pustak' ' inne' ' beton' ' drewno'\n",
      " ' kamień']\n"
     ]
    }
   ],
   "source": [
    "print(pd.unique(alldata['Materiał budynku']))"
   ]
  },
  {
   "cell_type": "code",
   "execution_count": 55,
   "id": "b5b50629",
   "metadata": {},
   "outputs": [
    {
     "name": "stdout",
     "output_type": "stream",
     "text": [
      "[2017. 1902. 1990. 2009.   nan 1992. 1963. 1993. 1930. 1960. 2000. 2008.\n",
      " 2015. 1980. 2018. 1997. 1975. 1995. 2006. 1964. 2011. 1920. 2004. 1970.\n",
      " 1965. 1985. 1908. 1910. 2007. 1966. 1938. 1928. 1887. 2005. 1987. 1955.\n",
      " 1972. 1905. 1934. 2002. 2010. 1950. 1900. 1940. 1956. 1967. 1909. 2014.\n",
      " 2016. 1998. 2013. 1915. 1991. 1981. 1936. 2001. 2003. 1996. 1999. 1984.\n",
      " 1968. 1989. 2012. 1978. 1973. 1926. 1961. 1929. 1994. 1894. 1979. 1927.\n",
      " 1935. 1906. 1969. 1988. 1937. 1986. 1976. 1939. 1903. 1924. 1952. 1977.\n",
      " 1862. 1962. 1983. 1912. 1982. 1907. 1974. 1904. 1941. 1925. 1933. 1944.\n",
      " 1947. 1896. 1971. 1948. 1945. 1954. 1949. 1943. 1914.]\n"
     ]
    }
   ],
   "source": [
    "print(pd.unique(alldata['Rok budowy']))"
   ]
  },
  {
   "cell_type": "code",
   "execution_count": 56,
   "id": "eda409dc",
   "metadata": {},
   "outputs": [
    {
     "name": "stdout",
     "output_type": "stream",
     "text": [
      "[' w aneksie' nan ' odzielna' ' prześwit']\n"
     ]
    }
   ],
   "source": [
    "print(pd.unique(alldata['Forma kuchni']))"
   ]
  },
  {
   "cell_type": "code",
   "execution_count": 57,
   "id": "0c05a9fa",
   "metadata": {},
   "outputs": [
    {
     "name": "stdout",
     "output_type": "stream",
     "text": [
      "[' stan deweloperski' nan ' wykończony' ' dobry' ' do remontu'\n",
      " ' do rozbiórki' ' świeżo po remoncie' ' wysoki standard'\n",
      " ' do odświeżenia' ' do wykończenia' ' stan surowy zamknięty' ' w budowie']\n"
     ]
    }
   ],
   "source": [
    "print(pd.unique(alldata['Stan']))"
   ]
  },
  {
   "cell_type": "code",
   "execution_count": 58,
   "id": "34a721cd",
   "metadata": {},
   "outputs": [
    {
     "name": "stdout",
     "output_type": "stream",
     "text": [
      "[' nowa' nan ' po wymianie' ' częściowo wymieniona' ' do wymiany']\n"
     ]
    }
   ],
   "source": [
    "print(pd.unique(alldata['Stan instalacji']))"
   ]
  },
  {
   "cell_type": "code",
   "execution_count": 59,
   "id": "47a1ab87",
   "metadata": {},
   "outputs": [
    {
     "name": "stdout",
     "output_type": "stream",
     "text": [
      "[nan ' asfaltowa' ' utwardzana' ' kostka brukowa' ' polna']\n"
     ]
    }
   ],
   "source": [
    "print(pd.unique(alldata['Droga dojazdowa']))"
   ]
  },
  {
   "cell_type": "code",
   "execution_count": 60,
   "id": "13ce9af9",
   "metadata": {},
   "outputs": [
    {
     "name": "stdout",
     "output_type": "stream",
     "text": [
      "[nan ' bardzo dobry' ' dobry' ' do odnowienia' ' do remontu']\n"
     ]
    }
   ],
   "source": [
    "print(pd.unique(alldata['Stan łazienki']))"
   ]
  },
  {
   "cell_type": "code",
   "execution_count": 61,
   "id": "fd7e91c8",
   "metadata": {},
   "outputs": [
    {
     "name": "stdout",
     "output_type": "stream",
     "text": [
      "        cena  Powierzchnia w m2  Liczba pokoi          Miejsce parkingowe  \\\n",
      "0     290386                 46             2   brak miejsca parkingowego   \n",
      "1     450000                 59             2   brak miejsca parkingowego   \n",
      "2     375000                 79             3   brak miejsca parkingowego   \n",
      "3     400000                 63             3                    w garażu   \n",
      "4     389285                 59             3   brak miejsca parkingowego   \n",
      "...      ...                ...           ...                         ...   \n",
      "4933  329900                 97             4   brak miejsca parkingowego   \n",
      "4934  695303                 48             2                    w garażu   \n",
      "4935  344152                 67             3                    w garażu   \n",
      "4936  650000                161             5                    w garażu   \n",
      "4937  127900                 36             2   brak miejsca parkingowego   \n",
      "\n",
      "      Liczba pięter w budynku   Piętro                    Typ zabudowy  \\\n",
      "0                         5.0   parter                 apartamentowiec   \n",
      "1                         3.0        2                       kamienica   \n",
      "2                        16.0        5                            blok   \n",
      "3                         2.0        2                            blok   \n",
      "4                        13.0       12                            blok   \n",
      "...                       ...      ...                             ...   \n",
      "4933                      4.0        4                       kamienica   \n",
      "4934                      4.0        3                 apartamentowiec   \n",
      "4935                      2.0   parter   dom wielorodzinny/szeregowiec   \n",
      "4936                      1.0      NaN                             NaN   \n",
      "4937                      2.0        2   dom wielorodzinny/szeregowiec   \n",
      "\n",
      "     Materiał budynku  Rok budowy Forma kuchni                Stan  \\\n",
      "0               cegła      2017.0    w aneksie   stan deweloperski   \n",
      "1               cegła      1902.0    w aneksie                 NaN   \n",
      "2               płyta      1990.0          NaN                 NaN   \n",
      "3               cegła      2009.0     odzielna                 NaN   \n",
      "4                 NaN         NaN    w aneksie                 NaN   \n",
      "...               ...         ...          ...                 ...   \n",
      "4933              NaN         NaN     odzielna          do remontu   \n",
      "4934              NaN      2012.0    w aneksie                 NaN   \n",
      "4935              NaN         NaN          NaN                 NaN   \n",
      "4936           pustak      2016.0          NaN      do wykończenia   \n",
      "4937            cegła      2018.0    w aneksie                 NaN   \n",
      "\n",
      "     Stan instalacji Droga dojazdowa  Stan łazienki  \n",
      "0               nowa             NaN            NaN  \n",
      "1                NaN             NaN            NaN  \n",
      "2                NaN             NaN            NaN  \n",
      "3                NaN             NaN   bardzo dobry  \n",
      "4                NaN             NaN            NaN  \n",
      "...              ...             ...            ...  \n",
      "4933      do wymiany             NaN            NaN  \n",
      "4934            nowa             NaN   bardzo dobry  \n",
      "4935             NaN             NaN            NaN  \n",
      "4936             NaN       asfaltowa            NaN  \n",
      "4937            nowa             NaN   bardzo dobry  \n",
      "\n",
      "[4938 rows x 14 columns]\n"
     ]
    }
   ],
   "source": [
    "data = pd.read_csv(\n",
    "    'flats.tsv', sep='\\t',\n",
    "     usecols=['cena', 'Powierzchnia w m2', 'Liczba pokoi', 'Miejsce parkingowe', 'Liczba pięter w budynku', 'Piętro', 'Typ zabudowy', 'Materiał budynku', 'Rok budowy', 'Forma kuchni', 'Stan', 'Stan instalacji', 'Droga dojazdowa', 'Stan łazienki'])\n",
    "\n",
    "print(data)"
   ]
  },
  {
   "cell_type": "code",
   "execution_count": 62,
   "id": "d2405cd9",
   "metadata": {},
   "outputs": [
    {
     "data": {
      "text/plain": [
       "cena                          0\n",
       "Powierzchnia w m2             0\n",
       "Liczba pokoi                  0\n",
       "Miejsce parkingowe            0\n",
       "Liczba pięter w budynku     150\n",
       "Piętro                      579\n",
       "Typ zabudowy                957\n",
       "Materiał budynku           2871\n",
       "Rok budowy                 2983\n",
       "Forma kuchni               3314\n",
       "Stan                       3745\n",
       "Stan instalacji            3908\n",
       "Droga dojazdowa            4519\n",
       "Stan łazienki              4147\n",
       "dtype: int64"
      ]
     },
     "execution_count": 62,
     "metadata": {},
     "output_type": "execute_result"
    }
   ],
   "source": [
    "data.isna().sum()"
   ]
  },
  {
   "cell_type": "code",
   "execution_count": 63,
   "id": "af8627c1",
   "metadata": {},
   "outputs": [
    {
     "data": {
      "text/plain": [
       "4938"
      ]
     },
     "execution_count": 63,
     "metadata": {},
     "output_type": "execute_result"
    }
   ],
   "source": [
    "len(data)"
   ]
  },
  {
   "cell_type": "code",
   "execution_count": 64,
   "id": "2248bdcf",
   "metadata": {},
   "outputs": [
    {
     "data": {
      "text/plain": [
       "cena                          0\n",
       "Powierzchnia w m2             0\n",
       "Liczba pokoi                  0\n",
       "Miejsce parkingowe            0\n",
       "Liczba pięter w budynku     150\n",
       "Piętro                      579\n",
       "Typ zabudowy                957\n",
       "Rok budowy                 2983\n",
       "dtype: int64"
      ]
     },
     "execution_count": 64,
     "metadata": {},
     "output_type": "execute_result"
    }
   ],
   "source": [
    "data = pd.read_csv(\n",
    "    'flats.tsv', sep='\\t',\n",
    "     usecols=['cena', 'Powierzchnia w m2', 'Liczba pokoi', 'Miejsce parkingowe', 'Liczba pięter w budynku', 'Piętro', 'Typ zabudowy', 'Rok budowy'])\n",
    "\n",
    "data.isna().sum()"
   ]
  },
  {
   "cell_type": "code",
   "execution_count": 65,
   "id": "b7118f9e",
   "metadata": {},
   "outputs": [
    {
     "data": {
      "text/plain": [
       "4938"
      ]
     },
     "execution_count": 65,
     "metadata": {},
     "output_type": "execute_result"
    }
   ],
   "source": [
    "len(data)"
   ]
  },
  {
   "cell_type": "code",
   "execution_count": 66,
   "id": "c4dbe0ca",
   "metadata": {
    "scrolled": true
   },
   "outputs": [
    {
     "data": {
      "text/plain": [
       "cena                         0\n",
       "Powierzchnia w m2            0\n",
       "Liczba pokoi                 0\n",
       "Miejsce parkingowe           0\n",
       "Liczba pięter w budynku    150\n",
       "Piętro                     579\n",
       "Typ zabudowy               957\n",
       "Rok budowy                   0\n",
       "dtype: int64"
      ]
     },
     "execution_count": 66,
     "metadata": {},
     "output_type": "execute_result"
    }
   ],
   "source": [
    "from sklearn.impute import SimpleImputer\n",
    "imputer = SimpleImputer(missing_values=np.nan, strategy='median')\n",
    "data[\"Rok budowy\"] = imputer.fit_transform(data[\"Rok budowy\"].values.reshape(-1, 1))\n",
    "data.isna().sum()"
   ]
  },
  {
   "cell_type": "code",
   "execution_count": 67,
   "id": "27847fad",
   "metadata": {},
   "outputs": [
    {
     "name": "stdout",
     "output_type": "stream",
     "text": [
      "        cena  Powierzchnia w m2  Liczba pokoi          Miejsce parkingowe  \\\n",
      "0     290386                 46             2   brak miejsca parkingowego   \n",
      "1     450000                 59             2   brak miejsca parkingowego   \n",
      "2     375000                 79             3   brak miejsca parkingowego   \n",
      "3     400000                 63             3                    w garażu   \n",
      "4     389285                 59             3   brak miejsca parkingowego   \n",
      "...      ...                ...           ...                         ...   \n",
      "4933  329900                 97             4   brak miejsca parkingowego   \n",
      "4934  695303                 48             2                    w garażu   \n",
      "4935  344152                 67             3                    w garażu   \n",
      "4936  650000                161             5                    w garażu   \n",
      "4937  127900                 36             2   brak miejsca parkingowego   \n",
      "\n",
      "      Liczba pięter w budynku   Piętro                    Typ zabudowy  \\\n",
      "0                         5.0   parter                 apartamentowiec   \n",
      "1                         3.0        2                       kamienica   \n",
      "2                        16.0        5                            blok   \n",
      "3                         2.0        2                            blok   \n",
      "4                        13.0       12                            blok   \n",
      "...                       ...      ...                             ...   \n",
      "4933                      4.0        4                       kamienica   \n",
      "4934                      4.0        3                 apartamentowiec   \n",
      "4935                      2.0   parter   dom wielorodzinny/szeregowiec   \n",
      "4936                      1.0      NaN                             NaN   \n",
      "4937                      2.0        2   dom wielorodzinny/szeregowiec   \n",
      "\n",
      "      Rok budowy  \n",
      "0         2017.0  \n",
      "1         1902.0  \n",
      "2         1990.0  \n",
      "3         2009.0  \n",
      "4         2000.0  \n",
      "...          ...  \n",
      "4933      2000.0  \n",
      "4934      2012.0  \n",
      "4935      2000.0  \n",
      "4936      2016.0  \n",
      "4937      2018.0  \n",
      "\n",
      "[4938 rows x 8 columns]\n"
     ]
    }
   ],
   "source": [
    "print(data)"
   ]
  },
  {
   "cell_type": "code",
   "execution_count": 71,
   "id": "2ef6468b",
   "metadata": {},
   "outputs": [
    {
     "name": "stdout",
     "output_type": "stream",
     "text": [
      "4788\n"
     ]
    },
    {
     "data": {
      "text/plain": [
       "cena                         0\n",
       "Powierzchnia w m2            0\n",
       "Liczba pokoi                 0\n",
       "Miejsce parkingowe           0\n",
       "Liczba pięter w budynku      0\n",
       "Piętro                     540\n",
       "Typ zabudowy               882\n",
       "Rok budowy                   0\n",
       "dtype: int64"
      ]
     },
     "execution_count": 71,
     "metadata": {},
     "output_type": "execute_result"
    }
   ],
   "source": [
    "data = data.dropna(subset = ['Liczba pięter w budynku'])\n",
    "print(len(data))\n",
    "data.isna().sum()"
   ]
  },
  {
   "cell_type": "code",
   "execution_count": 72,
   "id": "da46d680",
   "metadata": {},
   "outputs": [
    {
     "name": "stdout",
     "output_type": "stream",
     "text": [
      "        cena  Powierzchnia w m2  Liczba pokoi          Miejsce parkingowe  \\\n",
      "0     290386                 46             2   brak miejsca parkingowego   \n",
      "1     450000                 59             2   brak miejsca parkingowego   \n",
      "2     375000                 79             3   brak miejsca parkingowego   \n",
      "3     400000                 63             3                    w garażu   \n",
      "4     389285                 59             3   brak miejsca parkingowego   \n",
      "...      ...                ...           ...                         ...   \n",
      "4933  329900                 97             4   brak miejsca parkingowego   \n",
      "4934  695303                 48             2                    w garażu   \n",
      "4935  344152                 67             3                    w garażu   \n",
      "4936  650000                161             5                    w garażu   \n",
      "4937  127900                 36             2   brak miejsca parkingowego   \n",
      "\n",
      "      Liczba pięter w budynku   Piętro                    Typ zabudowy  \\\n",
      "0                         5.0   parter                 apartamentowiec   \n",
      "1                         3.0        2                       kamienica   \n",
      "2                        16.0        5                            blok   \n",
      "3                         2.0        2                            blok   \n",
      "4                        13.0       12                            blok   \n",
      "...                       ...      ...                             ...   \n",
      "4933                      4.0        4                       kamienica   \n",
      "4934                      4.0        3                 apartamentowiec   \n",
      "4935                      2.0   parter   dom wielorodzinny/szeregowiec   \n",
      "4936                      1.0      NaN                             NaN   \n",
      "4937                      2.0        2   dom wielorodzinny/szeregowiec   \n",
      "\n",
      "      Rok budowy  \n",
      "0         2017.0  \n",
      "1         1902.0  \n",
      "2         1990.0  \n",
      "3         2009.0  \n",
      "4         2000.0  \n",
      "...          ...  \n",
      "4933      2000.0  \n",
      "4934      2012.0  \n",
      "4935      2000.0  \n",
      "4936      2016.0  \n",
      "4937      2018.0  \n",
      "\n",
      "[4788 rows x 8 columns]\n"
     ]
    }
   ],
   "source": [
    "print(data)"
   ]
  },
  {
   "cell_type": "code",
   "execution_count": null,
   "id": "8d7dde13",
   "metadata": {},
   "outputs": [],
   "source": []
  }
 ],
 "metadata": {
  "kernelspec": {
   "display_name": "Python 3 (ipykernel)",
   "language": "python",
   "name": "python3"
  },
  "language_info": {
   "codemirror_mode": {
    "name": "ipython",
    "version": 3
   },
   "file_extension": ".py",
   "mimetype": "text/x-python",
   "name": "python",
   "nbconvert_exporter": "python",
   "pygments_lexer": "ipython3",
   "version": "3.10.2"
  }
 },
 "nbformat": 4,
 "nbformat_minor": 5
}
