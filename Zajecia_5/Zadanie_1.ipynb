{
 "cells": [
  {
   "cell_type": "code",
   "execution_count": 35,
   "id": "b00e012a",
   "metadata": {},
   "outputs": [],
   "source": [
    "import pandas as pd\n",
    "from IPython.display import display, Math, Latex\n",
    "import ipywidgets as widgets\n",
    "import numpy as np\n",
    "import matplotlib.pyplot as pl\n",
    "from sklearn import datasets, linear_model\n",
    "from sklearn.metrics import mean_squared_error\n",
    "\n",
    "data = pd.read_csv('fires_thefts.csv', header=None)\n",
    "fires = data[0]\n",
    "thefts = data[1]\n",
    "border = int(len(fires)/4) * 3\n",
    "X_train = fires[:border]\n",
    "Y_train = thefts[:border]\n",
    "X_test = fires[border:]\n",
    "Y_test = thefts[border:]"
   ]
  },
  {
   "cell_type": "code",
   "execution_count": 39,
   "id": "2c75ba60",
   "metadata": {},
   "outputs": [
    {
     "name": "stdout",
     "output_type": "stream",
     "text": [
      "Błąd średniokwadratowy wynosi 144.38504653510103\n"
     ]
    }
   ],
   "source": [
    "regr = linear_model.LinearRegression()\n",
    "\n",
    "regr.fit(X_train.array.reshape(-1, 1), Y_train.array.reshape(-1, 1))\n",
    "Y_predicted = regr.predict(X_test.array.reshape(-1, 1))\n",
    "error = mean_squared_error(Y_test, Y_predicted)\n",
    "\n",
    "print(f\"Błąd średniokwadratowy wynosi {error}\")"
   ]
  },
  {
   "cell_type": "code",
   "execution_count": 45,
   "id": "08ebdf14",
   "metadata": {},
   "outputs": [
    {
     "name": "stdout",
     "output_type": "stream",
     "text": [
      "-0.4674934148118681\n"
     ]
    }
   ],
   "source": [
    "print(regr.score(X_test.array.reshape(-1, 1), Y_test.array.reshape(-1, 1)))"
   ]
  },
  {
   "cell_type": "code",
   "execution_count": null,
   "id": "81930042",
   "metadata": {},
   "outputs": [],
   "source": []
  }
 ],
 "metadata": {
  "kernelspec": {
   "display_name": "Python 3 (ipykernel)",
   "language": "python",
   "name": "python3"
  },
  "language_info": {
   "codemirror_mode": {
    "name": "ipython",
    "version": 3
   },
   "file_extension": ".py",
   "mimetype": "text/x-python",
   "name": "python",
   "nbconvert_exporter": "python",
   "pygments_lexer": "ipython3",
   "version": "3.10.2"
  }
 },
 "nbformat": 4,
 "nbformat_minor": 5
}
